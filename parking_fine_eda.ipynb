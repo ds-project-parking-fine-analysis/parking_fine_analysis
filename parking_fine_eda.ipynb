{
 "cells": [
  {
   "cell_type": "markdown",
   "metadata": {},
   "source": [
    "### Necessary Libraries"
   ]
  },
  {
   "cell_type": "code",
   "execution_count": 1,
   "metadata": {},
   "outputs": [],
   "source": [
    "import os\n",
    "import pandas as pd\n",
    "import numpy as np"
   ]
  },
  {
   "cell_type": "markdown",
   "metadata": {},
   "source": [
    "### Logic for fetching csv files and dumping them into specified lists"
   ]
  },
  {
   "cell_type": "code",
   "execution_count": 2,
   "metadata": {},
   "outputs": [],
   "source": [
    "# path where all the required csv files are present(you can add your own path while testing)\n",
    "path = \"/Users/venkatasai/Desktop/ds_coursework/ParkingFineData\"\n",
    "\n",
    "# Please rename the files of both issued and fine into formats that end in \"201920.csv\" or into the years you want into the same format.\n",
    "# So that all these files can be fetched from the path mentioned above into seperate lists\n",
    "files_list = [file for file in os.listdir(path) if file.endswith(\"201920.csv\") or file.endswith(\"202122.csv\")]\n",
    "\n",
    "# We have two lists from which we can obtain the issued and paid files for the selected quarters separately, \n",
    "# and we will use these lists in the subsequent process of combining the data into single dataframes. \n",
    "issued_csv_list = [file_name for file_name in files_list if len(pd.read_csv(file_name, encoding= 'unicode_escape').\\\n",
    "                  loc[:, ~pd.read_csv(file_name, encoding= 'unicode_escape').columns.str.contains('^Unnamed')].columns) == 5]\n",
    "\n",
    "paid_csv_list = [file_name for file_name in files_list if len(pd.read_csv(file_name, encoding= 'unicode_escape').\\\n",
    "                  loc[:, ~pd.read_csv(file_name, encoding= 'unicode_escape').columns.str.contains('^Unnamed')].columns) > 5]\n"
   ]
  },
  {
   "cell_type": "markdown",
   "metadata": {},
   "source": [
    "### Issued fines list after renaming few files"
   ]
  },
  {
   "cell_type": "code",
   "execution_count": 3,
   "metadata": {},
   "outputs": [
    {
     "data": {
      "text/plain": [
       "['Q2 201920.csv',\n",
       " 'Q2 202122.csv',\n",
       " 'Q3 201920.csv',\n",
       " 'Q4 202122.csv',\n",
       " 'Q1 202122.csv',\n",
       " 'Q1 201920.csv',\n",
       " 'Q3 202122.csv',\n",
       " 'Q4 201920.csv']"
      ]
     },
     "execution_count": 3,
     "metadata": {},
     "output_type": "execute_result"
    }
   ],
   "source": [
    "issued_csv_list"
   ]
  },
  {
   "cell_type": "markdown",
   "metadata": {},
   "source": [
    "### Paid fines list after renaming few files"
   ]
  },
  {
   "cell_type": "code",
   "execution_count": 4,
   "metadata": {},
   "outputs": [
    {
     "data": {
      "text/plain": [
       "['Quarter 2 201920.csv',\n",
       " 'Quarter 2 202122.csv',\n",
       " 'Quarter 3 201920.csv',\n",
       " 'Quarter 4 202122.csv',\n",
       " 'Quarter 1 202122.csv',\n",
       " 'Quarter 1 201920.csv',\n",
       " 'Quarter 3 202122.csv',\n",
       " 'Quarter 4 201920.csv']"
      ]
     },
     "execution_count": 4,
     "metadata": {},
     "output_type": "execute_result"
    }
   ],
   "source": [
    "paid_csv_list"
   ]
  },
  {
   "cell_type": "markdown",
   "metadata": {},
   "source": [
    "#### Function for testing the actual_filename and extracted_filename based on date for finding any mismatched records\n",
    "+ <b> Step1 </b> : Concat all the dataframes\n",
    "+ <b> Step2 </b> : Extract the filename into desired format based on date(extracted_filename) and compare it with the (actual_filename)\n",
    "+ <b> Step3 </b> : Create a compare_result column which stores the comparision result \n",
    "+ <b> Step4 </b> : If the compare_result have results True then extracted_filename == actual_filename which gives an conclusion that only the desired quarter records are populated in the actual quarter files\n",
    "+ <b> Step5 </b> : If the compare_result have results False then extracted_filename != actual_filename which gives an conclusion that only the desired quarter records are not populated in the actual quarter files(this is how we had found few wrong records populated in certain files and we had renamed the files)\n",
    "+ <b> Step6 </b> : By using the above all steps the error free data is populated into the desired dataframes"
   ]
  },
  {
   "cell_type": "markdown",
   "metadata": {},
   "source": [
    "+ <b> <font color='red'>Note</font> </b> : Same Function can be used across all the quarters with slight modifications and filter the undesired results and rename the files as per the domain results derivative context"
   ]
  },
  {
   "cell_type": "code",
   "execution_count": 5,
   "metadata": {},
   "outputs": [],
   "source": [
    "def check_concatenated_data(target_list, date_colname):\n",
    "    \n",
    "    \"\"\"\n",
    "    arg1: target_list - pass issued_csv_list or paid_csv_list\n",
    "    arg2: date_colname - pass 'ISSUED' when it's issued_csv_list and pass 'Last Pay Date' when it's paid_csv_list\n",
    "    \n",
    "    \"\"\"\n",
    "\n",
    "    dfs = []\n",
    "    for file in target_list:\n",
    "        \n",
    "        file_df = pd.read_csv(file, encoding= 'unicode_escape')\n",
    "        file_df[date_colname] = pd.to_datetime(file_df[date_colname], dayfirst=True)\n",
    "        file_df['financial_year'] = file_df[date_colname].dt.to_period('Q-MAR').astype(str)\n",
    "        file_df['org_year_quarter'] = file_df[date_colname].map(lambda x: x.year if x.month > 3 else x.year-1).astype(str) + \\\n",
    "        file_df['financial_year'].str[4:]\n",
    "        \n",
    "        if date_colname == 'ISSUED':\n",
    "            file_df['extracted_filename'] = file_df['org_year_quarter'].str[4:] + ' ' + file_df['org_year_quarter'].str[0:4] + \\\n",
    "            (file_df['org_year_quarter'].str[2:4].astype(int)  + 1).astype(str) + '.csv'\n",
    "            \n",
    "        else:\n",
    "            file_df['extracted_filename'] = file_df['org_year_quarter'].str[4:] + ' ' + file_df['org_year_quarter'].str[0:4] + \\\n",
    "            (file_df['org_year_quarter'].str[2:4].astype(int)  + 1).astype(str) + '.csv'\n",
    "    \n",
    "            file_df['extracted_filename'] = file_df['extracted_filename'].apply(lambda x: x.replace(\"Q\", \"Quarter \"))\n",
    "            \n",
    "        file_df['actual_filename'] = file\n",
    "        dfs.append(file_df)\n",
    "\n",
    "    combined_df = pd.concat(dfs, ignore_index=True).\\\n",
    "                        loc[:, ~pd.concat(dfs, ignore_index=True).columns.str.contains('^Unnamed')]\n",
    "\n",
    "    combined_df['compare_result'] = np.where((combined_df['actual_filename'] == \\\n",
    "                                           combined_df['extracted_filename'])\n",
    "                                            ,True, False)\n",
    "    \n",
    "    combined_df.drop(['financial_year', 'org_year_quarter'], axis=1, inplace=True)\n",
    "\n",
    "    \n",
    "    return combined_df"
   ]
  },
  {
   "cell_type": "markdown",
   "metadata": {},
   "source": [
    "### <b> <font color='green'>Observations from the issued_fines data</font> </b>"
   ]
  },
  {
   "cell_type": "code",
   "execution_count": 6,
   "metadata": {},
   "outputs": [
    {
     "data": {
      "text/html": [
       "<div>\n",
       "<style scoped>\n",
       "    .dataframe tbody tr th:only-of-type {\n",
       "        vertical-align: middle;\n",
       "    }\n",
       "\n",
       "    .dataframe tbody tr th {\n",
       "        vertical-align: top;\n",
       "    }\n",
       "\n",
       "    .dataframe thead th {\n",
       "        text-align: right;\n",
       "    }\n",
       "</style>\n",
       "<table border=\"1\" class=\"dataframe\">\n",
       "  <thead>\n",
       "    <tr style=\"text-align: right;\">\n",
       "      <th></th>\n",
       "      <th>PCN</th>\n",
       "      <th>ISSUED</th>\n",
       "      <th>LOCATION</th>\n",
       "      <th>CONTRAVENTION</th>\n",
       "      <th>FINE</th>\n",
       "      <th>extracted_filename</th>\n",
       "      <th>actual_filename</th>\n",
       "      <th>compare_result</th>\n",
       "    </tr>\n",
       "  </thead>\n",
       "  <tbody>\n",
       "    <tr>\n",
       "      <th>0</th>\n",
       "      <td>LS02467046</td>\n",
       "      <td>2019-07-01</td>\n",
       "      <td>BECKETT ST LOWER CP - CITY</td>\n",
       "      <td>82 AFTER EXPIRY IN P+D CAR PARK</td>\n",
       "      <td>50</td>\n",
       "      <td>Q2 201920.csv</td>\n",
       "      <td>Q2 201920.csv</td>\n",
       "      <td>True</td>\n",
       "    </tr>\n",
       "    <tr>\n",
       "      <th>1</th>\n",
       "      <td>LS02467057</td>\n",
       "      <td>2019-07-01</td>\n",
       "      <td>HUNSLET LANE CP - CITY</td>\n",
       "      <td>83 WITHOUT DISPLAYING A VALID TICKET</td>\n",
       "      <td>50</td>\n",
       "      <td>Q2 201920.csv</td>\n",
       "      <td>Q2 201920.csv</td>\n",
       "      <td>True</td>\n",
       "    </tr>\n",
       "    <tr>\n",
       "      <th>2</th>\n",
       "      <td>LS05156122</td>\n",
       "      <td>2019-07-01</td>\n",
       "      <td>WOODHOUSE LANE  CP - CITY</td>\n",
       "      <td>83 WITHOUT DISPLAYING A VALID TICKET</td>\n",
       "      <td>50</td>\n",
       "      <td>Q2 201920.csv</td>\n",
       "      <td>Q2 201920.csv</td>\n",
       "      <td>True</td>\n",
       "    </tr>\n",
       "    <tr>\n",
       "      <th>3</th>\n",
       "      <td>LS0665751A</td>\n",
       "      <td>2019-07-01</td>\n",
       "      <td>CASTLE ST CP - CITY</td>\n",
       "      <td>73 PARKED WITHOUT PAYMENT</td>\n",
       "      <td>50</td>\n",
       "      <td>Q2 201920.csv</td>\n",
       "      <td>Q2 201920.csv</td>\n",
       "      <td>True</td>\n",
       "    </tr>\n",
       "    <tr>\n",
       "      <th>4</th>\n",
       "      <td>LS06657520</td>\n",
       "      <td>2019-07-01</td>\n",
       "      <td>CASTLE ST CP - CITY</td>\n",
       "      <td>73 PARKED WITHOUT PAYMENT</td>\n",
       "      <td>50</td>\n",
       "      <td>Q2 201920.csv</td>\n",
       "      <td>Q2 201920.csv</td>\n",
       "      <td>True</td>\n",
       "    </tr>\n",
       "  </tbody>\n",
       "</table>\n",
       "</div>"
      ],
      "text/plain": [
       "          PCN     ISSUED                    LOCATION  \\\n",
       "0  LS02467046 2019-07-01  BECKETT ST LOWER CP - CITY   \n",
       "1  LS02467057 2019-07-01      HUNSLET LANE CP - CITY   \n",
       "2  LS05156122 2019-07-01   WOODHOUSE LANE  CP - CITY   \n",
       "3  LS0665751A 2019-07-01         CASTLE ST CP - CITY   \n",
       "4  LS06657520 2019-07-01         CASTLE ST CP - CITY   \n",
       "\n",
       "                          CONTRAVENTION  FINE extracted_filename  \\\n",
       "0       82 AFTER EXPIRY IN P+D CAR PARK    50      Q2 201920.csv   \n",
       "1  83 WITHOUT DISPLAYING A VALID TICKET    50      Q2 201920.csv   \n",
       "2  83 WITHOUT DISPLAYING A VALID TICKET    50      Q2 201920.csv   \n",
       "3             73 PARKED WITHOUT PAYMENT    50      Q2 201920.csv   \n",
       "4             73 PARKED WITHOUT PAYMENT    50      Q2 201920.csv   \n",
       "\n",
       "  actual_filename  compare_result  \n",
       "0   Q2 201920.csv            True  \n",
       "1   Q2 201920.csv            True  \n",
       "2   Q2 201920.csv            True  \n",
       "3   Q2 201920.csv            True  \n",
       "4   Q2 201920.csv            True  "
      ]
     },
     "execution_count": 6,
     "metadata": {},
     "output_type": "execute_result"
    }
   ],
   "source": [
    "issued_fine_data = check_concatenated_data(issued_csv_list, 'ISSUED')\n",
    "issued_fine_data.head()"
   ]
  },
  {
   "cell_type": "code",
   "execution_count": 7,
   "metadata": {},
   "outputs": [
    {
     "name": "stdout",
     "output_type": "stream",
     "text": [
      "The total number of records present in issued_fines: 18141\n",
      "The count of PCN numbers across all the selected quarters for issued_fines: 18141\n",
      "The count of distinct PCN numbers across all the selected quarters for issued_fines: 18141\n"
     ]
    }
   ],
   "source": [
    "print(f\"The total number of records present in issued_fines: {issued_fine_data.shape[0]}\")\n",
    "print(f\"The count of PCN numbers across all the selected quarters for issued_fines: {len(issued_fine_data['PCN'].tolist())}\")\n",
    "print(f\"The count of distinct PCN numbers across all the selected quarters for issued_fines: {len(issued_fine_data['PCN'].unique().tolist())}\")\n"
   ]
  },
  {
   "cell_type": "markdown",
   "metadata": {},
   "source": [
    "+ There are no repeated PCN numbers in the issued_fine_data which gives a conclusion that each row in the selected data corresponds to an unique fine. As seen in the above result, total number of PCN is equal to distinct number of PCN."
   ]
  },
  {
   "cell_type": "markdown",
   "metadata": {},
   "source": [
    "### <b> <font color='green'>Observations from the paid_fines data</font> </b>"
   ]
  },
  {
   "cell_type": "code",
   "execution_count": 13,
   "metadata": {},
   "outputs": [
    {
     "data": {
      "text/html": [
       "<div>\n",
       "<style scoped>\n",
       "    .dataframe tbody tr th:only-of-type {\n",
       "        vertical-align: middle;\n",
       "    }\n",
       "\n",
       "    .dataframe tbody tr th {\n",
       "        vertical-align: top;\n",
       "    }\n",
       "\n",
       "    .dataframe thead th {\n",
       "        text-align: right;\n",
       "    }\n",
       "</style>\n",
       "<table border=\"1\" class=\"dataframe\">\n",
       "  <thead>\n",
       "    <tr style=\"text-align: right;\">\n",
       "      <th></th>\n",
       "      <th>PCN</th>\n",
       "      <th>ISSUED</th>\n",
       "      <th>LOCATION</th>\n",
       "      <th>CONTRAVENTION</th>\n",
       "      <th>FINE</th>\n",
       "      <th>Last Pay Date</th>\n",
       "      <th>Total Paid</th>\n",
       "      <th>Balance</th>\n",
       "      <th>extracted_filename</th>\n",
       "      <th>actual_filename</th>\n",
       "      <th>compare_result</th>\n",
       "    </tr>\n",
       "  </thead>\n",
       "  <tbody>\n",
       "    <tr>\n",
       "      <th>0</th>\n",
       "      <td>LS01119328</td>\n",
       "      <td>28/02/2017</td>\n",
       "      <td>QUARRY HILL C CP - CITY</td>\n",
       "      <td>83 WITHOUT DISPLAYING A VALID TICKET</td>\n",
       "      <td>50</td>\n",
       "      <td>2019-08-01</td>\n",
       "      <td>83.0</td>\n",
       "      <td>0.0</td>\n",
       "      <td>Quarter 2 201920.csv</td>\n",
       "      <td>Quarter 2 201920.csv</td>\n",
       "      <td>True</td>\n",
       "    </tr>\n",
       "    <tr>\n",
       "      <th>1</th>\n",
       "      <td>LS07212417</td>\n",
       "      <td>18/07/2017</td>\n",
       "      <td>QUARRY HILL C CP - CITY</td>\n",
       "      <td>83 WITHOUT DISPLAYING A VALID TICKET</td>\n",
       "      <td>50</td>\n",
       "      <td>2019-08-01</td>\n",
       "      <td>83.0</td>\n",
       "      <td>0.0</td>\n",
       "      <td>Quarter 2 201920.csv</td>\n",
       "      <td>Quarter 2 201920.csv</td>\n",
       "      <td>True</td>\n",
       "    </tr>\n",
       "    <tr>\n",
       "      <th>2</th>\n",
       "      <td>LS0591308A</td>\n",
       "      <td>22/08/2017</td>\n",
       "      <td>QUARRY HILL B CP - CITY</td>\n",
       "      <td>83 WITHOUT DISPLAYING A VALID TICKET</td>\n",
       "      <td>50</td>\n",
       "      <td>2019-08-01</td>\n",
       "      <td>83.0</td>\n",
       "      <td>0.0</td>\n",
       "      <td>Quarter 2 201920.csv</td>\n",
       "      <td>Quarter 2 201920.csv</td>\n",
       "      <td>True</td>\n",
       "    </tr>\n",
       "    <tr>\n",
       "      <th>3</th>\n",
       "      <td>LS06620440</td>\n",
       "      <td>06/09/2017</td>\n",
       "      <td>HUNSLET LANE CP - CITY</td>\n",
       "      <td>83 WITHOUT DISPLAYING A VALID TICKET</td>\n",
       "      <td>50</td>\n",
       "      <td>2019-09-18</td>\n",
       "      <td>0.0</td>\n",
       "      <td>83.0</td>\n",
       "      <td>Quarter 2 201920.csv</td>\n",
       "      <td>Quarter 2 201920.csv</td>\n",
       "      <td>True</td>\n",
       "    </tr>\n",
       "    <tr>\n",
       "      <th>4</th>\n",
       "      <td>LS0721988A</td>\n",
       "      <td>22/12/2017</td>\n",
       "      <td>BECKETT ST UPPER CP - CITY</td>\n",
       "      <td>73 PARKED WITHOUT PAYMENT</td>\n",
       "      <td>50</td>\n",
       "      <td>2019-09-10</td>\n",
       "      <td>0.0</td>\n",
       "      <td>0.0</td>\n",
       "      <td>Quarter 2 201920.csv</td>\n",
       "      <td>Quarter 2 201920.csv</td>\n",
       "      <td>True</td>\n",
       "    </tr>\n",
       "  </tbody>\n",
       "</table>\n",
       "</div>"
      ],
      "text/plain": [
       "          PCN      ISSUED                    LOCATION  \\\n",
       "0  LS01119328  28/02/2017     QUARRY HILL C CP - CITY   \n",
       "1  LS07212417  18/07/2017     QUARRY HILL C CP - CITY   \n",
       "2  LS0591308A  22/08/2017     QUARRY HILL B CP - CITY   \n",
       "3  LS06620440  06/09/2017      HUNSLET LANE CP - CITY   \n",
       "4  LS0721988A  22/12/2017  BECKETT ST UPPER CP - CITY   \n",
       "\n",
       "                          CONTRAVENTION  FINE Last Pay Date  Total Paid  \\\n",
       "0  83 WITHOUT DISPLAYING A VALID TICKET    50    2019-08-01        83.0   \n",
       "1  83 WITHOUT DISPLAYING A VALID TICKET    50    2019-08-01        83.0   \n",
       "2  83 WITHOUT DISPLAYING A VALID TICKET    50    2019-08-01        83.0   \n",
       "3  83 WITHOUT DISPLAYING A VALID TICKET    50    2019-09-18         0.0   \n",
       "4             73 PARKED WITHOUT PAYMENT    50    2019-09-10         0.0   \n",
       "\n",
       "   Balance    extracted_filename       actual_filename  compare_result  \n",
       "0      0.0  Quarter 2 201920.csv  Quarter 2 201920.csv            True  \n",
       "1      0.0  Quarter 2 201920.csv  Quarter 2 201920.csv            True  \n",
       "2      0.0  Quarter 2 201920.csv  Quarter 2 201920.csv            True  \n",
       "3     83.0  Quarter 2 201920.csv  Quarter 2 201920.csv            True  \n",
       "4      0.0  Quarter 2 201920.csv  Quarter 2 201920.csv            True  "
      ]
     },
     "execution_count": 13,
     "metadata": {},
     "output_type": "execute_result"
    }
   ],
   "source": [
    "paid_fine_data = check_concatenated_data(paid_csv_list, 'Last Pay Date')\n",
    "paid_fine_data.head()"
   ]
  },
  {
   "cell_type": "markdown",
   "metadata": {},
   "source": [
    "+ It is evident that the PCN numbers are repeated in the paid_fines_data but that makes sense because one PCN number fine can be paid across multiple quarters"
   ]
  },
  {
   "cell_type": "code",
   "execution_count": 16,
   "metadata": {},
   "outputs": [
    {
     "name": "stdout",
     "output_type": "stream",
     "text": [
      "The total number of records present in paid_fines: 43971\n",
      "The count of distinct PCN numbers across all the selected quarters for paid_fines : 43971\n",
      "The count of distinct PCN numbers across all the selected quarters for paid_fines : 21481\n"
     ]
    }
   ],
   "source": [
    "print(f\"The total number of records present in paid_fines: {paid_fine_data.shape[0]}\")\n",
    "print(f\"The count of distinct PCN numbers across all the selected quarters for paid_fines : {len(paid_fine_data['PCN'].tolist())}\")\n",
    "print(f\"The count of distinct PCN numbers across all the selected quarters for paid_fines : {len(paid_fine_data['PCN'].unique().tolist())}\")"
   ]
  },
  {
   "cell_type": "markdown",
   "metadata": {},
   "source": [
    "#### Number of Fines issued per quarter and Number of Fines paid per quarter"
   ]
  },
  {
   "cell_type": "code",
   "execution_count": 46,
   "metadata": {},
   "outputs": [],
   "source": [
    "issued_data_count = issued_fine_data.groupby(['actual_filename']).size().reset_index(name='number_of_records')\n",
    "paid_data_count = paid_fine_data.groupby(['actual_filename']).size().reset_index(name='number_of_records')\n",
    "merged_issued_paid_count_df = issued_data_count.merge(paid_data_count, left_index=True, right_index=True, how='inner')\n",
    "merged_issued_paid_count_df.rename(columns = {'actual_filename_x' : 'Issued_filename', 'number_of_records_x' : 'Fines_issued_count',\n",
    "                                              'actual_filename_y' : 'Paid_filename', 'number_of_records_y' : 'Fines_paid_count'}, inplace=True)\n",
    "merged_issued_paid_count_df = merged_issued_paid_count_df[['Issued_filename', 'Fines_issued_count', 'Paid_filename', 'Fines_paid_count']]"
   ]
  },
  {
   "cell_type": "code",
   "execution_count": 47,
   "metadata": {},
   "outputs": [
    {
     "data": {
      "text/html": [
       "<div>\n",
       "<style scoped>\n",
       "    .dataframe tbody tr th:only-of-type {\n",
       "        vertical-align: middle;\n",
       "    }\n",
       "\n",
       "    .dataframe tbody tr th {\n",
       "        vertical-align: top;\n",
       "    }\n",
       "\n",
       "    .dataframe thead th {\n",
       "        text-align: right;\n",
       "    }\n",
       "</style>\n",
       "<table border=\"1\" class=\"dataframe\">\n",
       "  <thead>\n",
       "    <tr style=\"text-align: right;\">\n",
       "      <th></th>\n",
       "      <th>Issued_filename</th>\n",
       "      <th>Fines_issued_count</th>\n",
       "      <th>Paid_filename</th>\n",
       "      <th>Fines_paid_count</th>\n",
       "    </tr>\n",
       "  </thead>\n",
       "  <tbody>\n",
       "    <tr>\n",
       "      <th>0</th>\n",
       "      <td>Q1 201920.csv</td>\n",
       "      <td>2776</td>\n",
       "      <td>Quarter 1 201920.csv</td>\n",
       "      <td>6498</td>\n",
       "    </tr>\n",
       "    <tr>\n",
       "      <th>1</th>\n",
       "      <td>Q1 202122.csv</td>\n",
       "      <td>1547</td>\n",
       "      <td>Quarter 1 202122.csv</td>\n",
       "      <td>3452</td>\n",
       "    </tr>\n",
       "    <tr>\n",
       "      <th>2</th>\n",
       "      <td>Q2 201920.csv</td>\n",
       "      <td>2931</td>\n",
       "      <td>Quarter 2 201920.csv</td>\n",
       "      <td>6859</td>\n",
       "    </tr>\n",
       "    <tr>\n",
       "      <th>3</th>\n",
       "      <td>Q2 202122.csv</td>\n",
       "      <td>1867</td>\n",
       "      <td>Quarter 2 202122.csv</td>\n",
       "      <td>4074</td>\n",
       "    </tr>\n",
       "    <tr>\n",
       "      <th>4</th>\n",
       "      <td>Q3 201920.csv</td>\n",
       "      <td>3178</td>\n",
       "      <td>Quarter 3 201920.csv</td>\n",
       "      <td>7196</td>\n",
       "    </tr>\n",
       "    <tr>\n",
       "      <th>5</th>\n",
       "      <td>Q3 202122.csv</td>\n",
       "      <td>1455</td>\n",
       "      <td>Quarter 3 202122.csv</td>\n",
       "      <td>3540</td>\n",
       "    </tr>\n",
       "    <tr>\n",
       "      <th>6</th>\n",
       "      <td>Q4 201920.csv</td>\n",
       "      <td>2926</td>\n",
       "      <td>Quarter 4 201920.csv</td>\n",
       "      <td>9145</td>\n",
       "    </tr>\n",
       "    <tr>\n",
       "      <th>7</th>\n",
       "      <td>Q4 202122.csv</td>\n",
       "      <td>1461</td>\n",
       "      <td>Quarter 4 202122.csv</td>\n",
       "      <td>3207</td>\n",
       "    </tr>\n",
       "  </tbody>\n",
       "</table>\n",
       "</div>"
      ],
      "text/plain": [
       "  Issued_filename  Fines_issued_count         Paid_filename  Fines_paid_count\n",
       "0   Q1 201920.csv                2776  Quarter 1 201920.csv              6498\n",
       "1   Q1 202122.csv                1547  Quarter 1 202122.csv              3452\n",
       "2   Q2 201920.csv                2931  Quarter 2 201920.csv              6859\n",
       "3   Q2 202122.csv                1867  Quarter 2 202122.csv              4074\n",
       "4   Q3 201920.csv                3178  Quarter 3 201920.csv              7196\n",
       "5   Q3 202122.csv                1455  Quarter 3 202122.csv              3540\n",
       "6   Q4 201920.csv                2926  Quarter 4 201920.csv              9145\n",
       "7   Q4 202122.csv                1461  Quarter 4 202122.csv              3207"
      ]
     },
     "execution_count": 47,
     "metadata": {},
     "output_type": "execute_result"
    }
   ],
   "source": [
    "merged_issued_paid_count_df"
   ]
  },
  {
   "cell_type": "code",
   "execution_count": null,
   "metadata": {},
   "outputs": [],
   "source": []
  }
 ],
 "metadata": {
  "kernelspec": {
   "display_name": "Python 3",
   "language": "python",
   "name": "python3"
  },
  "language_info": {
   "codemirror_mode": {
    "name": "ipython",
    "version": 3
   },
   "file_extension": ".py",
   "mimetype": "text/x-python",
   "name": "python",
   "nbconvert_exporter": "python",
   "pygments_lexer": "ipython3",
   "version": "3.7.6"
  }
 },
 "nbformat": 4,
 "nbformat_minor": 4
}
